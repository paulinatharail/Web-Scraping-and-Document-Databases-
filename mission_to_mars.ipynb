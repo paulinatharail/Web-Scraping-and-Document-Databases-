{
 "cells": [
  {
   "cell_type": "code",
   "execution_count": null,
   "metadata": {},
   "outputs": [],
   "source": [
    "import pandas as pd\n",
    "from splinter import Browser\n",
    "from bs4 import BeautifulSoup as bs\n",
    "import requests\n",
    "import os"
   ]
  },
  {
   "cell_type": "code",
   "execution_count": null,
   "metadata": {},
   "outputs": [],
   "source": [
    "def init_browser():\n",
    "    executable_path = {'executable_path': '/usr/local/bin/chromedriver'}\n",
    "    browser = Browser('chrome', **executable_path, headless=False)\n",
    "    "
   ]
  },
  {
   "cell_type": "markdown",
   "metadata": {},
   "source": [
    "# News title and description"
   ]
  },
  {
   "cell_type": "code",
   "execution_count": null,
   "metadata": {},
   "outputs": [],
   "source": [
    "def news_title():\n",
    "\n",
    "    # Get the News titles and descriptions \n",
    "    url = 'https://mars.nasa.gov/news/?page=0&per_page=40&order=publish_date+desc%2Ccreated_at+desc&search=&category=19%2C165%2C184%2C204&blank_scope=Latest'\n",
    "\n",
    "    #Retrieve page with the requests module\n",
    "    response = requests.get(url)\n",
    "    \n",
    "    #Create BeautifulSoup object; and parse with 'html.parser'\n",
    "    soup = BeautifulSoup(response.text, 'html.parser')\n",
    "    \n",
    "    #display html with identation\n",
    "    # print(soup.prettify())\n",
    "    \n",
    "    #Find all the div with class='slide'\n",
    "    divs = soup.find_all('div', class_=\"slide\")\n",
    "\n",
    "    # New list to hold all the title and description \n",
    "    news_divs = []\n",
    "\n",
    "    #iterate through each div element\n",
    "    for div in divs:\n",
    "    \n",
    "        #identify title and return news title\n",
    "        title = div.find('div', class_='content_title').text.strip()\n",
    "    \n",
    "        #identify and return the description of the news\n",
    "        description = div.find('div', class_='rollover_description_inner').text.strip()\n",
    "    \n",
    "        news_dict = {'Title': title,\n",
    "                    'Description': description\n",
    "                    }\n",
    "        news_divs.append(news_dict)\n",
    "        \n",
    "        return news_divs[0]\n"
   ]
  },
  {
   "cell_type": "markdown",
   "metadata": {},
   "source": [
    "# Mars Image using Splinter"
   ]
  },
  {
   "cell_type": "code",
   "execution_count": null,
   "metadata": {},
   "outputs": [],
   "source": [
    "def mars_featured_img():\n",
    "    browser = init_browser()\n",
    "    \n",
    "    # Mars images with Splinter\n",
    "    url = 'https://www.jpl.nasa.gov/spaceimages/?search=&category=Mars'\n",
    "    browser.visit(url)\n",
    "    \n",
    "    html = browser.html\n",
    "    soup = BeautifulSoup(html, 'html.parser')\n",
    "    \n",
    "    article = soup.find_all('article',class_='carousel_item')\n",
    "    #print (article)\n",
    "    \n",
    "    # Extract the URL for the full image\n",
    "    for art in article:\n",
    "        article_a = art.find('a')\n",
    "        featured_image_url = 'https://www.jpl.nasa.gov' + article_a['data-fancybox-href']\n",
    "\n",
    "    return featured_image_url\n"
   ]
  },
  {
   "cell_type": "markdown",
   "metadata": {},
   "source": [
    "# Mars Weather"
   ]
  },
  {
   "cell_type": "code",
   "execution_count": null,
   "metadata": {},
   "outputs": [],
   "source": [
    "def mars_weather():\n",
    "    url = 'https://twitter.com/marswxreport?lang=en'\n",
    "    browser.visit(url)\n",
    "\n",
    "    html = browser.html\n",
    "    soup = BeautifulSoup(html, 'html.parser')\n",
    "    \n",
    "    #Get all the tweets in the div element \n",
    "    tweets = soup.find_all('div',class_='js-tweet-text-container')\n",
    "\n",
    "    #create a new list to contain all the tweets\n",
    "    tweet_txt = []\n",
    "    for tweet in tweets:\n",
    "        tweet_txt.append(tweet.find('p').text)\n",
    "    \n",
    "    #Assign the latest weather to the variable mars_weather\n",
    "    mars_weather = tweet_txt[0]\n",
    "\n",
    "    return mars_weather    \n"
   ]
  },
  {
   "cell_type": "markdown",
   "metadata": {},
   "source": [
    "# Mars Facts (pandas scraping)"
   ]
  },
  {
   "cell_type": "code",
   "execution_count": null,
   "metadata": {},
   "outputs": [],
   "source": [
    "def mars_facts():\n",
    "    url = 'https://space-facts.com/mars/'\n",
    "\n",
    "    #scrape tabular data with pandas\n",
    "    tables = pd.read_html(url)\n",
    "\n",
    "    #tables is a list of dataframes\n",
    "    #tables\n",
    "    \n",
    "    # convert to dataframe\n",
    "    df = tables[0]\n",
    "\n",
    "    df.columns = ['Facts','Measurements']\n",
    "\n",
    "    #convert dataframe to dictionary\n",
    "    mars_facts = df.to_dict('records')\n",
    "    \n",
    "    return mars_facts\n"
   ]
  },
  {
   "cell_type": "markdown",
   "metadata": {},
   "source": [
    "# Mars Hemispheres"
   ]
  },
  {
   "cell_type": "code",
   "execution_count": null,
   "metadata": {},
   "outputs": [],
   "source": [
    "def mars_hemisphers():\n",
    "    \n",
    "\n",
    "    # Access the locally saved Gitlab page to get the Mars Hemisphere pictures\n",
    "    filepath = os.path.join(\"Resources\", \"02-Homework_12-Web-Scraping-and-Document-Databases_Instructions · master · UCSD-Coding-Bootcamp _ UCSD201809DATA4 · GitLab.htm\")\n",
    "    with open(filepath) as file:\n",
    "        html = file.read()\n",
    "\n",
    "    #create a Beautiful Soup objet\n",
    "    soup = BeautifulSoup(html, 'lxml')\n",
    "\n",
    "    #Extract images\n",
    "    images = []\n",
    "\n",
    "    imgs = soup.find_all('a', class_=\"no-attachment-icon\")\n",
    "    for image in imgs:\n",
    "\n",
    "    #    print(image)\n",
    "    #    print(image.img[\"alt\"])\n",
    "        img_url = image[\"href\"]\n",
    "        img_title = image.img[\"alt\"]\n",
    "\n",
    "        img_dict = {'url':img_url,\n",
    "                   'title':img_title\n",
    "                }\n",
    "\n",
    "        images.append(img_dict)\n",
    "\n",
    "\n",
    "    print (img_dict)    \n",
    "\n"
   ]
  },
  {
   "cell_type": "markdown",
   "metadata": {},
   "source": [
    "# scrape()"
   ]
  },
  {
   "cell_type": "code",
   "execution_count": null,
   "metadata": {},
   "outputs": [],
   "source": [
    "#scrape () to return all scraped info as a dictionary\n",
    "\n",
    "def scrape():\n",
    "    mars_info = {}\n",
    "    \n",
    "    news_divs = news_title()\n",
    "    featured_image_url = mars_featured_img()\n",
    "    mars_weather_info = mars_weather()\n",
    "    mars_fact = mars_facts()\n",
    "    mars_hems = mars_hemisphers()\n",
    "    \n",
    "    mars_info = {\n",
    "        'Mars_News': news_divs\n",
    "        , 'Featured_Image': featured_image_url\n",
    "        , 'Mars_weather': mars_weather_info\n",
    "        , 'Mars_Facts': mars_fact\n",
    "        , 'Mars_Hemispheres': mars_hems\n",
    "    }\n",
    "    \n",
    "    return mars_info"
   ]
  }
 ],
 "metadata": {
  "kernelspec": {
   "display_name": "Python 3",
   "language": "python",
   "name": "python3"
  },
  "language_info": {
   "codemirror_mode": {
    "name": "ipython",
    "version": 3
   },
   "file_extension": ".py",
   "mimetype": "text/x-python",
   "name": "python",
   "nbconvert_exporter": "python",
   "pygments_lexer": "ipython3",
   "version": "3.6.5"
  }
 },
 "nbformat": 4,
 "nbformat_minor": 2
}
